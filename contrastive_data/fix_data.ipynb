{
 "cells": [
  {
   "cell_type": "code",
   "execution_count": 1,
   "metadata": {},
   "outputs": [],
   "source": [
    "import numpy as np"
   ]
  },
  {
   "cell_type": "code",
   "execution_count": 2,
   "metadata": {},
   "outputs": [],
   "source": [
    "with open('train.target', 'r', encoding='utf-8-sig') as f:\n",
    "    train_target = f.read().splitlines()"
   ]
  },
  {
   "cell_type": "code",
   "execution_count": 3,
   "metadata": {},
   "outputs": [],
   "source": [
    "with open('train.pos_target', 'r', encoding='utf-8-sig') as f:\n",
    "    train_pos_target = f.read().splitlines()"
   ]
  },
  {
   "cell_type": "code",
   "execution_count": 4,
   "metadata": {},
   "outputs": [
    {
     "data": {
      "text/plain": [
       "(11226, 2368)"
      ]
     },
     "execution_count": 4,
     "metadata": {},
     "output_type": "execute_result"
    }
   ],
   "source": [
    "len(train_target), len(train_pos_target)"
   ]
  },
  {
   "cell_type": "code",
   "execution_count": 5,
   "metadata": {},
   "outputs": [],
   "source": [
    "number_of_repetitions_in_train = []\n",
    "prev_line = None\n",
    "num_repetitions = 0\n",
    "for line in train_target:\n",
    "    if line == prev_line:\n",
    "        num_repetitions += 1\n",
    "    else:\n",
    "        if prev_line is not None:\n",
    "            number_of_repetitions_in_train.append(num_repetitions)\n",
    "        prev_line = line\n",
    "        num_repetitions = 1\n",
    "number_of_repetitions_in_train.append(num_repetitions)"
   ]
  },
  {
   "cell_type": "code",
   "execution_count": 6,
   "metadata": {},
   "outputs": [
    {
     "data": {
      "text/plain": [
       "(11226, 11226)"
      ]
     },
     "execution_count": 6,
     "metadata": {},
     "output_type": "execute_result"
    }
   ],
   "source": [
    "np.sum(number_of_repetitions_in_train), len(train_target)"
   ]
  },
  {
   "cell_type": "code",
   "execution_count": 7,
   "metadata": {},
   "outputs": [],
   "source": [
    "updated_train_pos_target = []\n",
    "for num_repetition, line in zip(number_of_repetitions_in_train, train_pos_target):\n",
    "    for _ in range(num_repetition):\n",
    "        updated_train_pos_target.append(line)"
   ]
  },
  {
   "cell_type": "code",
   "execution_count": 8,
   "metadata": {},
   "outputs": [
    {
     "data": {
      "text/plain": [
       "(11226, 11226)"
      ]
     },
     "execution_count": 8,
     "metadata": {},
     "output_type": "execute_result"
    }
   ],
   "source": [
    "len(train_target), len(updated_train_pos_target)"
   ]
  },
  {
   "cell_type": "code",
   "execution_count": 9,
   "metadata": {},
   "outputs": [
    {
     "data": {
      "text/plain": [
       "['(cannabis; synonym of; marijuana)(marijuana; capable of; good thing)(good thing; desires; legal)(legal; causes; more available)',\n",
       " '(cannabis; synonym of; marijuana)(marijuana; capable of; good thing)(good thing; desires; legal)(legal; causes; more available)',\n",
       " '(cannabis; synonym of; marijuana)(marijuana; capable of; good thing)(good thing; desires; legal)(legal; causes; more available)',\n",
       " '(cannabis; synonym of; marijuana)(marijuana; capable of; good thing)(good thing; desires; legal)(legal; causes; more available)',\n",
       " '(cannabis; synonym of; marijuana)(marijuana; capable of; good thing)(good thing; desires; legal)(legal; causes; more available)',\n",
       " '(women and men; is a; citizens)(citizens; causes; have same rights)(have same rights; causes; women)(women; capable of; help the country)(help the country; desires; be in combat)',\n",
       " '(women and men; is a; citizens)(citizens; causes; have same rights)(have same rights; causes; women)(women; capable of; help the country)(help the country; desires; be in combat)',\n",
       " '(women and men; is a; citizens)(citizens; causes; have same rights)(have same rights; causes; women)(women; capable of; help the country)(help the country; desires; be in combat)',\n",
       " '(women and men; is a; citizens)(citizens; causes; have same rights)(have same rights; causes; women)(women; capable of; help the country)(help the country; desires; be in combat)',\n",
       " '(women and men; is a; citizens)(citizens; causes; have same rights)(have same rights; causes; women)(women; capable of; help the country)(help the country; desires; be in combat)']"
      ]
     },
     "execution_count": 9,
     "metadata": {},
     "output_type": "execute_result"
    }
   ],
   "source": [
    "train_target[:10]"
   ]
  },
  {
   "cell_type": "code",
   "execution_count": 10,
   "metadata": {},
   "outputs": [
    {
     "data": {
      "text/plain": [
       "['(cannabis; synonym of; marijuana)(legal; causes; more available)(marijuana; capable of; well matter)(well matter; desires; legal)',\n",
       " '(cannabis; synonym of; marijuana)(legal; causes; more available)(marijuana; capable of; well matter)(well matter; desires; legal)',\n",
       " '(cannabis; synonym of; marijuana)(legal; causes; more available)(marijuana; capable of; well matter)(well matter; desires; legal)',\n",
       " '(cannabis; synonym of; marijuana)(legal; causes; more available)(marijuana; capable of; well matter)(well matter; desires; legal)',\n",
       " '(cannabis; synonym of; marijuana)(legal; causes; more available)(marijuana; capable of; well matter)(well matter; desires; legal)',\n",
       " '(women and men; is a; citizens)(citizens; causes; have same rights)(have same rights; causes; women)(women; capable of; assist the nation)(assist the nation; desires; be in combat)',\n",
       " '(women and men; is a; citizens)(citizens; causes; have same rights)(have same rights; causes; women)(women; capable of; assist the nation)(assist the nation; desires; be in combat)',\n",
       " '(women and men; is a; citizens)(citizens; causes; have same rights)(have same rights; causes; women)(women; capable of; assist the nation)(assist the nation; desires; be in combat)',\n",
       " '(women and men; is a; citizens)(citizens; causes; have same rights)(have same rights; causes; women)(women; capable of; assist the nation)(assist the nation; desires; be in combat)',\n",
       " '(women and men; is a; citizens)(citizens; causes; have same rights)(have same rights; causes; women)(women; capable of; assist the nation)(assist the nation; desires; be in combat)']"
      ]
     },
     "execution_count": 10,
     "metadata": {},
     "output_type": "execute_result"
    }
   ],
   "source": [
    "updated_train_pos_target[:10]"
   ]
  },
  {
   "cell_type": "code",
   "execution_count": 11,
   "metadata": {},
   "outputs": [],
   "source": [
    "with open('train.pos_target', 'w', encoding='utf-8-sig') as f:\n",
    "    for line in updated_train_pos_target:\n",
    "        f.write(line)\n",
    "        f.write('\\n')"
   ]
  },
  {
   "cell_type": "code",
   "execution_count": null,
   "metadata": {},
   "outputs": [],
   "source": []
  }
 ],
 "metadata": {
  "kernelspec": {
   "display_name": "Python 3.10.4 ('cpu')",
   "language": "python",
   "name": "python3"
  },
  "language_info": {
   "codemirror_mode": {
    "name": "ipython",
    "version": 3
   },
   "file_extension": ".py",
   "mimetype": "text/x-python",
   "name": "python",
   "nbconvert_exporter": "python",
   "pygments_lexer": "ipython3",
   "version": "3.10.4"
  },
  "orig_nbformat": 4,
  "vscode": {
   "interpreter": {
    "hash": "633161fe0ba17fb17441f37e78ee62647412cabaeb5286dee9ea24a88b4a361a"
   }
  }
 },
 "nbformat": 4,
 "nbformat_minor": 2
}
