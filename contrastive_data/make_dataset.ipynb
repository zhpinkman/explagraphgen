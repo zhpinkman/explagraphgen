{
 "cells": [
  {
   "cell_type": "code",
   "execution_count": 36,
   "metadata": {},
   "outputs": [],
   "source": [
    "with open('train.source', 'r', encoding='utf-8-sig') as f:\n",
    "    train_source = f.read().splitlines()\n",
    "with open('train.target', 'r', encoding='utf-8-sig') as f:\n",
    "    train_target = f.read().splitlines()\n",
    "with open('train.pos_target', 'r', encoding='utf-8-sig') as f:\n",
    "    train_pos_target = f.read().splitlines()"
   ]
  },
  {
   "cell_type": "code",
   "execution_count": 37,
   "metadata": {},
   "outputs": [
    {
     "data": {
      "text/plain": [
       "(11226, 11226, 2368)"
      ]
     },
     "execution_count": 37,
     "metadata": {},
     "output_type": "execute_result"
    }
   ],
   "source": [
    "len(train_source), len(train_target), len(train_pos_target)"
   ]
  },
  {
   "cell_type": "code",
   "execution_count": 38,
   "metadata": {},
   "outputs": [],
   "source": [
    "\n",
    "new_train_source = []\n",
    "for entity in train_source:\n",
    "    if entity in new_train_source:\n",
    "        continue\n",
    "    new_train_source.append(entity)\n",
    "\n",
    "new_train_target = []\n",
    "for entity in train_target:\n",
    "    if entity in new_train_target:\n",
    "        continue\n",
    "    new_train_target.append(entity)\n",
    "\n"
   ]
  },
  {
   "cell_type": "code",
   "execution_count": 39,
   "metadata": {},
   "outputs": [
    {
     "data": {
      "text/plain": [
       "(2368, 2368, 2368)"
      ]
     },
     "execution_count": 39,
     "metadata": {},
     "output_type": "execute_result"
    }
   ],
   "source": [
    "len(new_train_source), len(new_train_target), len(train_pos_target)"
   ]
  },
  {
   "cell_type": "code",
   "execution_count": 40,
   "metadata": {},
   "outputs": [],
   "source": [
    "all_train_source = new_train_source + new_train_source\n",
    "all_train_target = new_train_target + train_pos_target"
   ]
  },
  {
   "cell_type": "code",
   "execution_count": 41,
   "metadata": {},
   "outputs": [],
   "source": [
    "with open('train.pos_aug.source', 'w', encoding='utf-8-sig') as f:\n",
    "    for entity in all_train_source:\n",
    "        f.write(entity)\n",
    "        f.write('\\n')\n",
    "\n",
    "with open('train.pos_aug.target', 'w', encoding='utf-8-sig') as f:\n",
    "    for entity in all_train_target:\n",
    "        f.write(entity)\n",
    "        f.write('\\n')"
   ]
  },
  {
   "cell_type": "code",
   "execution_count": null,
   "metadata": {},
   "outputs": [],
   "source": []
  }
 ],
 "metadata": {
  "kernelspec": {
   "display_name": "Python 3.10.4 ('cpu')",
   "language": "python",
   "name": "python3"
  },
  "language_info": {
   "codemirror_mode": {
    "name": "ipython",
    "version": 3
   },
   "file_extension": ".py",
   "mimetype": "text/x-python",
   "name": "python",
   "nbconvert_exporter": "python",
   "pygments_lexer": "ipython3",
   "version": "3.10.4"
  },
  "orig_nbformat": 4,
  "vscode": {
   "interpreter": {
    "hash": "633161fe0ba17fb17441f37e78ee62647412cabaeb5286dee9ea24a88b4a361a"
   }
  }
 },
 "nbformat": 4,
 "nbformat_minor": 2
}
