{
 "cells": [
  {
   "cell_type": "code",
   "execution_count": 48,
   "metadata": {},
   "outputs": [],
   "source": [
    "import spacy\n",
    "import numpy as np\n",
    "import pandas as pd\n",
    "import re\n",
    "from tqdm import tqdm\n",
    "from sentence_transformers import SentenceTransformer"
   ]
  },
  {
   "cell_type": "code",
   "execution_count": 18,
   "metadata": {},
   "outputs": [
    {
     "name": "stderr",
     "output_type": "stream",
     "text": [
      "/tmp/ipykernel_2746282/3848696862.py:1: FutureWarning: The error_bad_lines argument has been deprecated and will be removed in a future version. Use on_bad_lines in the future.\n",
      "\n",
      "\n",
      "  kg_df = pd.read_csv(\"../cskg_star.tsv\", sep=\"\\t\", error_bad_lines=False)\n",
      "b'Skipping line 5997119: expected 10 fields, saw 11\\nSkipping line 6016458: expected 10 fields, saw 11\\nSkipping line 6017377: expected 10 fields, saw 11\\n'\n",
      "b'Skipping line 6049906: expected 10 fields, saw 11\\nSkipping line 6067719: expected 10 fields, saw 11\\nSkipping line 6069988: expected 10 fields, saw 11\\nSkipping line 6079377: expected 10 fields, saw 11\\nSkipping line 6092900: expected 10 fields, saw 11\\n'\n",
      "b'Skipping line 6101744: expected 10 fields, saw 11\\nSkipping line 6101793: expected 10 fields, saw 11\\nSkipping line 6131769: expected 10 fields, saw 11\\n'\n",
      "b'Skipping line 6171924: expected 10 fields, saw 11\\nSkipping line 6215673: expected 10 fields, saw 11\\nSkipping line 6223428: expected 10 fields, saw 11\\nSkipping line 6225292: expected 10 fields, saw 11\\n'\n",
      "/tmp/ipykernel_2746282/3848696862.py:1: DtypeWarning: Columns (7,9) have mixed types. Specify dtype option on import or set low_memory=False.\n",
      "  kg_df = pd.read_csv(\"../cskg_star.tsv\", sep=\"\\t\", error_bad_lines=False)\n"
     ]
    }
   ],
   "source": [
    "kg_df = pd.read_csv(\"../cskg_star.tsv\", sep=\"\\t\", error_bad_lines=False)"
   ]
  },
  {
   "cell_type": "code",
   "execution_count": 19,
   "metadata": {},
   "outputs": [
    {
     "data": {
      "text/html": [
       "<div>\n",
       "<style scoped>\n",
       "    .dataframe tbody tr th:only-of-type {\n",
       "        vertical-align: middle;\n",
       "    }\n",
       "\n",
       "    .dataframe tbody tr th {\n",
       "        vertical-align: top;\n",
       "    }\n",
       "\n",
       "    .dataframe thead th {\n",
       "        text-align: right;\n",
       "    }\n",
       "</style>\n",
       "<table border=\"1\" class=\"dataframe\">\n",
       "  <thead>\n",
       "    <tr style=\"text-align: right;\">\n",
       "      <th></th>\n",
       "      <th>id</th>\n",
       "      <th>node1</th>\n",
       "      <th>relation</th>\n",
       "      <th>node2</th>\n",
       "      <th>node1;label</th>\n",
       "      <th>node2;label</th>\n",
       "      <th>relation;label</th>\n",
       "      <th>relation;dimension</th>\n",
       "      <th>source</th>\n",
       "      <th>sentence</th>\n",
       "    </tr>\n",
       "  </thead>\n",
       "  <tbody>\n",
       "    <tr>\n",
       "      <th>0</th>\n",
       "      <td>/c/en/0-/r/DefinedAs-/c/en/empty_set-0000</td>\n",
       "      <td>/c/en/0</td>\n",
       "      <td>/r/DefinedAs</td>\n",
       "      <td>/c/en/empty_set</td>\n",
       "      <td>0</td>\n",
       "      <td>empty set</td>\n",
       "      <td>defined as</td>\n",
       "      <td>NaN</td>\n",
       "      <td>CN</td>\n",
       "      <td>[[0]] is the [[empty set]].</td>\n",
       "    </tr>\n",
       "    <tr>\n",
       "      <th>1</th>\n",
       "      <td>/c/en/0-/r/DefinedAs-/c/en/first_limit_ordinal...</td>\n",
       "      <td>/c/en/0</td>\n",
       "      <td>/r/DefinedAs</td>\n",
       "      <td>/c/en/first_limit_ordinal</td>\n",
       "      <td>0</td>\n",
       "      <td>first limit ordinal</td>\n",
       "      <td>defined as</td>\n",
       "      <td>NaN</td>\n",
       "      <td>CN</td>\n",
       "      <td>[[0]] is the [[first limit ordinal]].</td>\n",
       "    </tr>\n",
       "    <tr>\n",
       "      <th>2</th>\n",
       "      <td>/c/en/0-/r/DefinedAs-/c/en/number_zero-0000</td>\n",
       "      <td>/c/en/0</td>\n",
       "      <td>/r/DefinedAs</td>\n",
       "      <td>/c/en/number_zero</td>\n",
       "      <td>0</td>\n",
       "      <td>number zero</td>\n",
       "      <td>defined as</td>\n",
       "      <td>NaN</td>\n",
       "      <td>CN</td>\n",
       "      <td>[[0]] is the [[number zero]].</td>\n",
       "    </tr>\n",
       "  </tbody>\n",
       "</table>\n",
       "</div>"
      ],
      "text/plain": [
       "                                                  id    node1      relation  \\\n",
       "0          /c/en/0-/r/DefinedAs-/c/en/empty_set-0000  /c/en/0  /r/DefinedAs   \n",
       "1  /c/en/0-/r/DefinedAs-/c/en/first_limit_ordinal...  /c/en/0  /r/DefinedAs   \n",
       "2        /c/en/0-/r/DefinedAs-/c/en/number_zero-0000  /c/en/0  /r/DefinedAs   \n",
       "\n",
       "                       node2 node1;label          node2;label relation;label  \\\n",
       "0            /c/en/empty_set           0            empty set     defined as   \n",
       "1  /c/en/first_limit_ordinal           0  first limit ordinal     defined as   \n",
       "2          /c/en/number_zero           0          number zero     defined as   \n",
       "\n",
       "  relation;dimension source                               sentence  \n",
       "0                NaN     CN            [[0]] is the [[empty set]].  \n",
       "1                NaN     CN  [[0]] is the [[first limit ordinal]].  \n",
       "2                NaN     CN          [[0]] is the [[number zero]].  "
      ]
     },
     "execution_count": 19,
     "metadata": {},
     "output_type": "execute_result"
    }
   ],
   "source": [
    "kg_df.head(3)"
   ]
  },
  {
   "cell_type": "code",
   "execution_count": null,
   "metadata": {},
   "outputs": [],
   "source": [
    "all_kg_sentences = []\n",
    "print(kg_df.shape)\n",
    "for _, row in tqdm(kg_df.iterrows()):\n",
    "    if str(row['sentence']) != 'nan':\n",
    "        all_kg_sentences.append(row['sentence'])\n",
    "    else:\n",
    "        all_kg_sentences.append(f\"{row['node1;label']} {row['relation;label']} {row['node2;label']}\")"
   ]
  },
  {
   "cell_type": "code",
   "execution_count": 53,
   "metadata": {},
   "outputs": [
    {
     "data": {
      "text/plain": [
       "['0r has context nonstandard',\n",
       " '0s form of 0',\n",
       " '0s related to 0',\n",
       " '0th derived from 0',\n",
       " '0tlps form of 0tlp',\n",
       " '[[1]] can [[equal 1]]',\n",
       " '1 has context internet',\n",
       " '1 has context internet slang',\n",
       " '1 has context leet',\n",
       " '1 has context sarcastic',\n",
       " '1 has context slang',\n",
       " '[[1]] is [[one]]',\n",
       " '[[\"1\"]] is [[pronounced one]]',\n",
       " '[[1]] is a kind of [[Abstaction]].',\n",
       " '[[1]] is [[a higher number than 0]]',\n",
       " '[[1]] is [[a number]]',\n",
       " '[[{1}]] is a type of [[set containing one element]].',\n",
       " '1 related to draft',\n",
       " '1 related to like',\n",
       " '1 related to number',\n",
       " '1 related to one',\n",
       " '1 synonym one',\n",
       " '1,000 megawatt plutonium reactor is a tangible thing',\n",
       " '1,000 meter form of 1000 metre',\n",
       " '1,000 metre form of 1000 metre',\n",
       " '1,1,1 trichloro 2,2 bis 4 chlorophenyl ethane related to dichlorodiphenyltrichloroethane',\n",
       " '1,1,2 trichloro 1,2,2 trifluoroethane is a chemical compound',\n",
       " '1,1,2 trichloro 1,2,2 trifluoroethane synonym 1,1,2 trichloro 1,2,2 trifluoroethane',\n",
       " '1,1,2 trichloro 1,2,2 trifluoroethane is a cfc',\n",
       " '1,1 dimethylhydrazine is a dimethylhydrazine',\n",
       " '1,1 dimethylhydrazine related to unsymmetrical dimethylhydrazine',\n",
       " '1,2,3 trinitrooxypropane synonym 2,3 bis nitrooxy propyl nitrate',\n",
       " '1,2,3 trinitrooxypropane synonym glyceryl trinitrate',\n",
       " '1,2,3 trinitrooxypropane synonym nitro',\n",
       " '1,2,3 trinitrooxypropane synonym nitroglycerin',\n",
       " '1,2,3 trinitrooxypropane synonym trinitroglycerin',\n",
       " '1,2,4 trioxane is a ether',\n",
       " '1,2 diazole derived from diazole',\n",
       " '1,2 dibromoethane is a chemical compound',\n",
       " '1,2 dibromoethane synonym 1,2 dibromoethane',\n",
       " '1,2 dibromoethane is a tangible thing',\n",
       " '1,2 dichlorotetrafluoroethane is a chemical compound',\n",
       " '1,2 dichlorotetrafluoroethane synonym 1,2 dichlorotetrafluoroethane',\n",
       " '1,2 dichlorotetrafluoroethane is a cfc',\n",
       " '1,2 dimethoxybenzene is a chemical compound',\n",
       " '1,2 dimethoxybenzene synonym 1,2 dimethoxybenzene',\n",
       " '1,2 dimethoxybenzene is a ether',\n",
       " '1,2 dimethylhydrazine is a chemical compound',\n",
       " '1,2 dimethylhydrazine is a dimethylhydrazine',\n",
       " '1,2 dimethylhydrazine synonym 1,2 dimethylhydrazine',\n",
       " '1,2 dimethylhydrazine is a tangible thing',\n",
       " '1,2 naphthoquinone derived from naphthoquinone',\n",
       " '1,2 naphthoquinone is a chemical compound',\n",
       " '1,2 naphthoquinone synonym 1,2 naphthoquinone',\n",
       " '1,2 naphthoquinone has context organic compound',\n",
       " '1,2 naphthoquinone related to naphthoquinone',\n",
       " '1,3,5 cyclohexatriene form of cyclohexa 1,3,5 triene',\n",
       " '1,3 diazole derived from diazole',\n",
       " '1,3 dimethylpentylamine is a amine',\n",
       " '1,3bpg is a chemical object',\n",
       " '1,3bpg is a organic molecule',\n",
       " '1,4 dimethoxybenzene is a ether',\n",
       " '1,4 dioxane is a chemical compound',\n",
       " '1,4 dioxane synonym 1,4 dioxane',\n",
       " '1,4 dioxane is a ether',\n",
       " '1,4 naphthoquinone derived from naphthoquinone',\n",
       " '1,4 naphthoquinone is a chemical compound',\n",
       " '1,4 naphthoquinone synonym 1,4 naphthoquinone',\n",
       " '1,4 naphthoquinone has context organic compound',\n",
       " '1,4 naphthoquinone related to naphthoquinone',\n",
       " '1 form of a1',\n",
       " '[[1]] is similar to [[cardinal]]',\n",
       " 'nan nan nan',\n",
       " '1 has context historical',\n",
       " '1 has context military',\n",
       " '1 has context us',\n",
       " '1 related to angstrom',\n",
       " '1 form of plus one',\n",
       " '[[1]] is a synonym of [[one]]',\n",
       " '1 instance of extended play',\n",
       " '1 is a album',\n",
       " '1 synonym 1',\n",
       " '1 genre indie pop',\n",
       " '1 synonym 1',\n",
       " '[[10]] is [[9 plus 1]]',\n",
       " '[[10]] is [[ten]]',\n",
       " '[[10]] is [[a higher number than 9]]',\n",
       " '10,000 metres related to 10',\n",
       " '10,000 metres synonym 10,000 metres',\n",
       " '10,000 metres synonym 10,000 meters',\n",
       " '10.0 related to perfect',\n",
       " '10.0 related to perfection',\n",
       " '10.0s form of 10.0',\n",
       " '[[10]] is similar to [[cardinal]]',\n",
       " 'nan nan nan',\n",
       " '10 related to intense',\n",
       " '10 related to perfect',\n",
       " '[[10]] is a synonym of [[ten]]',\n",
       " '[[100]] is [[one hundred]]',\n",
       " '100 form of one hundred percent']"
      ]
     },
     "execution_count": 53,
     "metadata": {},
     "output_type": "execute_result"
    }
   ],
   "source": [
    "all_kg_sentences[200:300]"
   ]
  },
  {
   "cell_type": "code",
   "execution_count": 56,
   "metadata": {},
   "outputs": [],
   "source": [
    "\n",
    "model = SentenceTransformer('sentence-transformers/all-mpnet-base-v2')\n",
    "\n",
    "sentences = [\"This is an example sentence\", \"Each sentence is converted\"] * 100\n",
    "\n",
    "embeddings = model.encode(sentences)\n"
   ]
  },
  {
   "cell_type": "code",
   "execution_count": 57,
   "metadata": {},
   "outputs": [
    {
     "data": {
      "text/plain": [
       "(200, 768)"
      ]
     },
     "execution_count": 57,
     "metadata": {},
     "output_type": "execute_result"
    }
   ],
   "source": [
    "embeddings.shape"
   ]
  },
  {
   "cell_type": "code",
   "execution_count": 4,
   "metadata": {},
   "outputs": [],
   "source": [
    "with open('train.source', 'r', encoding='utf-8-sig') as f:\n",
    "    train_source = f.read().splitlines()"
   ]
  },
  {
   "cell_type": "code",
   "execution_count": 5,
   "metadata": {},
   "outputs": [
    {
     "data": {
      "text/plain": [
       "2368"
      ]
     },
     "execution_count": 5,
     "metadata": {},
     "output_type": "execute_result"
    }
   ],
   "source": [
    "unique_sentences = list(set(train_source))\n",
    "len(unique_sentences)"
   ]
  },
  {
   "cell_type": "code",
   "execution_count": 12,
   "metadata": {},
   "outputs": [],
   "source": [
    "beliefs = []\n",
    "arguments = []\n",
    "for sent in unique_sentences:\n",
    "    all_seps = [m.start() for m in re.finditer('</s>', sent)]\n",
    "    beliefs.append(sent[7:all_seps[0]])\n",
    "    arguments.append(sent[all_seps[0]+14:all_seps[1]])"
   ]
  },
  {
   "cell_type": "code",
   "execution_count": null,
   "metadata": {},
   "outputs": [],
   "source": []
  }
 ],
 "metadata": {
  "kernelspec": {
   "display_name": "Python 3.10.4 ('cpu')",
   "language": "python",
   "name": "python3"
  },
  "language_info": {
   "codemirror_mode": {
    "name": "ipython",
    "version": 3
   },
   "file_extension": ".py",
   "mimetype": "text/x-python",
   "name": "python",
   "nbconvert_exporter": "python",
   "pygments_lexer": "ipython3",
   "version": "3.10.4"
  },
  "orig_nbformat": 4,
  "vscode": {
   "interpreter": {
    "hash": "633161fe0ba17fb17441f37e78ee62647412cabaeb5286dee9ea24a88b4a361a"
   }
  }
 },
 "nbformat": 4,
 "nbformat_minor": 2
}
